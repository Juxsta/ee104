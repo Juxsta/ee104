{
 "cells": [
  {
   "cell_type": "code",
   "execution_count": 1,
   "metadata": {},
   "outputs": [],
   "source": [
    "import pandas as pd"
   ]
  },
  {
   "cell_type": "code",
   "execution_count": null,
   "metadata": {},
   "outputs": [],
   "source": [
    "pd.read_csv('./R')"
   ]
  }
 ],
 "metadata": {
  "interpreter": {
   "hash": "b46b40d9eda94cdce8b7bf604703f7059b9f78e523c9076ab2773a2c079099d8"
  },
  "kernelspec": {
   "display_name": "Python 3.9.7 64-bit ('ee104-gdVpYSdT': pipenv)",
   "name": "python3"
  },
  "language_info": {
   "codemirror_mode": {
    "name": "ipython",
    "version": 3
   },
   "file_extension": ".py",
   "mimetype": "text/x-python",
   "name": "python",
   "nbconvert_exporter": "python",
   "pygments_lexer": "ipython3",
   "version": "3.9.7"
  },
  "orig_nbformat": 4
 },
 "nbformat": 4,
 "nbformat_minor": 2
}
