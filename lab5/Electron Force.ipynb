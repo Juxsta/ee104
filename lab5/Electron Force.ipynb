{
 "cells": [
  {
   "cell_type": "markdown",
   "metadata": {},
   "source": [
    "Find work needed to separate two electrons from point a to b"
   ]
  },
  {
   "cell_type": "code",
   "execution_count": 1,
   "metadata": {},
   "outputs": [],
   "source": [
    "import numpy as np\n",
    "import scipy.integrate as integ"
   ]
  },
  {
   "cell_type": "code",
   "execution_count": 2,
   "metadata": {},
   "outputs": [],
   "source": [
    "k=9e9\n",
    "q=1.6e-19\n"
   ]
  },
  {
   "cell_type": "code",
   "execution_count": 3,
   "metadata": {},
   "outputs": [
    {
     "name": "stdout",
     "output_type": "stream",
     "text": [
      "Force = 2.0736000013603604e-16\n"
     ]
    }
   ],
   "source": [
    "a=1e-12\n",
    "b=10e-12\n",
    "f = lambda x:k*q*q/x**2\n",
    "w = integ.quad(f,a,b)\n",
    "print(f\"Force = {w[0]}\")"
   ]
  },
  {
   "cell_type": "code",
   "execution_count": null,
   "metadata": {},
   "outputs": [],
   "source": []
  }
 ],
 "metadata": {
  "interpreter": {
   "hash": "b46b40d9eda94cdce8b7bf604703f7059b9f78e523c9076ab2773a2c079099d8"
  },
  "kernelspec": {
   "display_name": "Python 3.9.7 64-bit ('ee104-gdVpYSdT': pipenv)",
   "name": "python3"
  },
  "language_info": {
   "codemirror_mode": {
    "name": "ipython",
    "version": 3
   },
   "file_extension": ".py",
   "mimetype": "text/x-python",
   "name": "python",
   "nbconvert_exporter": "python",
   "pygments_lexer": "ipython3",
   "version": "3.9.7"
  },
  "orig_nbformat": 4
 },
 "nbformat": 4,
 "nbformat_minor": 2
}
